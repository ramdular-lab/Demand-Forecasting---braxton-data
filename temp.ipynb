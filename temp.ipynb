{
 "cells": [
  {
   "cell_type": "code",
   "execution_count": null,
   "id": "80381dad",
   "metadata": {},
   "outputs": [
    {
     "ename": "ModuleNotFoundError",
     "evalue": "No module named 'pandas'",
     "output_type": "error",
     "traceback": [
      "\u001b[1;31m---------------------------------------------------------------------------\u001b[0m",
      "\u001b[1;31mModuleNotFoundError\u001b[0m                       Traceback (most recent call last)",
      "Cell \u001b[1;32mIn[8], line 1\u001b[0m\n\u001b[1;32m----> 1\u001b[0m \u001b[38;5;28;01mimport\u001b[39;00m\u001b[38;5;250m \u001b[39m\u001b[38;5;21;01mpandas\u001b[39;00m\u001b[38;5;250m \u001b[39m\u001b[38;5;28;01mas\u001b[39;00m\u001b[38;5;250m \u001b[39m\u001b[38;5;21;01mpd\u001b[39;00m\n",
      "\u001b[1;31mModuleNotFoundError\u001b[0m: No module named 'pandas'"
     ]
    }
   ],
   "source": [
    "import pandas as pd"
   ]
  },
  {
   "cell_type": "code",
   "execution_count": 10,
   "id": "12517866",
   "metadata": {},
   "outputs": [
    {
     "ename": "ModuleNotFoundError",
     "evalue": "No module named 'pandas'",
     "output_type": "error",
     "traceback": [
      "\u001b[1;31m---------------------------------------------------------------------------\u001b[0m",
      "\u001b[1;31mModuleNotFoundError\u001b[0m                       Traceback (most recent call last)",
      "Cell \u001b[1;32mIn[10], line 1\u001b[0m\n\u001b[1;32m----> 1\u001b[0m \u001b[38;5;28;01mimport\u001b[39;00m\u001b[38;5;250m \u001b[39m\u001b[38;5;21;01mpandas\u001b[39;00m\u001b[38;5;250m \u001b[39m\u001b[38;5;28;01mas\u001b[39;00m\u001b[38;5;250m \u001b[39m\u001b[38;5;21;01mpd\u001b[39;00m\n\u001b[0;32m      2\u001b[0m \u001b[38;5;28;01mimport\u001b[39;00m\u001b[38;5;250m \u001b[39m\u001b[38;5;21;01mos\u001b[39;00m\n\u001b[0;32m      4\u001b[0m \u001b[38;5;66;03m# --- Configuration ---\u001b[39;00m\n\u001b[0;32m      5\u001b[0m \u001b[38;5;66;03m# Use the exact file names of the input files\u001b[39;00m\n",
      "\u001b[1;31mModuleNotFoundError\u001b[0m: No module named 'pandas'"
     ]
    }
   ],
   "source": [
    "import pandas as pd\n",
    "import os\n",
    "\n",
    "# --- Configuration ---\n",
    "# Use the exact file names of the input files\n",
    "SALES_FILE_NAME = \"Sales_Revenue_Export_September2025_10-09-2025_13-03-16.xlsx\"\n",
    "BUSINESS_PERFORMANCE_FILE = \"Business_Performance_09-01-2025_09-30-2025_10-09-2025_13-16-30.xlsx\"\n",
    "OUTPUT_FILE_NAME = \"daily_sales_summary.xlsx\"\n",
    "\n",
    "print(f\"Starting process for sales file: {SALES_FILE_NAME}\")\n",
    "print(f\"Loading business performance file: {BUSINESS_PERFORMANCE_FILE}\")\n",
    "\n",
    "# Read both Excel files into pandas DataFrames\n",
    "df_sales = pd.read_excel(SALES_FILE_NAME)\n",
    "df_business = pd.read_excel(BUSINESS_PERFORMANCE_FILE)\n",
    "\n",
    "# Standardize column names for easier access (e.g., removing spaces)\n",
    "df_sales.columns = df_sales.columns.str.replace('[^A-Za-z0-9_]+', '', regex=True).str.lower()\n",
    "df_business.columns = df_business.columns.str.replace('[^A-Za-z0-9_]+', '', regex=True).str.lower()\n",
    "\n",
    "# Ensure 'day' is treated as a date (optional but good practice)\n",
    "df_sales['day'] = pd.to_datetime(df_sales['day'])\n",
    "df_business['day'] = pd.to_datetime(df_business['day'])  # Adjust column name if different in the actual file\n",
    "\n",
    "# Calculate daily total sales and quantity sold\n",
    "daily_aggregates = df_sales.groupby('day').agg(\n",
    "    sales=('sales', 'sum'),\n",
    "    quantity_sold=('quantitysold', 'sum')\n",
    ").reset_index()\n",
    "\n",
    "# Get customer visits from business performance data\n",
    "customer_visits = df_business.groupby('day')['customervisits'].sum().reset_index()\n",
    "\n",
    "# Merge daily aggregates with customer visits data\n",
    "final_df = pd.merge(daily_aggregates, customer_visits, on='day', how='left')\n",
    "\n",
    "# Rename columns to match the requested output\n",
    "final_df = final_df.rename(columns={\n",
    "    'day': 'Date Range',\n",
    "    'quantity_sold': 'Units Sold',\n",
    "    'customervisits': 'Customer Visits'\n",
    "})\n",
    "\n",
    "# Fill any remaining NaNs with 0\n",
    "final_df = final_df.fillna(0)\n",
    "\n",
    "# Write the resulting DataFrame to a new Excel file\n",
    "final_df.to_excel(OUTPUT_FILE_NAME, index=False)\n",
    "\n",
    "print(f\"\\nSuccessfully created the new Excel file: {OUTPUT_FILE_NAME}\")\n",
    "print(\"\\nFirst 5 rows of the generated daily sales data:\")\n",
    "print(final_df.head())"
   ]
  },
  {
   "cell_type": "code",
   "execution_count": 7,
   "id": "c155b2b1",
   "metadata": {},
   "outputs": [
    {
     "ename": "NameError",
     "evalue": "name 'final_df' is not defined",
     "output_type": "error",
     "traceback": [
      "\u001b[1;31m---------------------------------------------------------------------------\u001b[0m",
      "\u001b[1;31mNameError\u001b[0m                                 Traceback (most recent call last)",
      "Cell \u001b[1;32mIn[7], line 1\u001b[0m\n\u001b[1;32m----> 1\u001b[0m \u001b[43mfinal_df\u001b[49m\n",
      "\u001b[1;31mNameError\u001b[0m: name 'final_df' is not defined"
     ]
    }
   ],
   "source": [
    "final_df"
   ]
  },
  {
   "cell_type": "code",
   "execution_count": null,
   "id": "5d2a93ae",
   "metadata": {},
   "outputs": [],
   "source": []
  },
  {
   "cell_type": "code",
   "execution_count": null,
   "id": "c0e90c71",
   "metadata": {},
   "outputs": [],
   "source": []
  }
 ],
 "metadata": {
  "kernelspec": {
   "display_name": "Python 3",
   "language": "python",
   "name": "python3"
  },
  "language_info": {
   "codemirror_mode": {
    "name": "ipython",
    "version": 3
   },
   "file_extension": ".py",
   "mimetype": "text/x-python",
   "name": "python",
   "nbconvert_exporter": "python",
   "pygments_lexer": "ipython3",
   "version": "3.10.0"
  }
 },
 "nbformat": 4,
 "nbformat_minor": 5
}
